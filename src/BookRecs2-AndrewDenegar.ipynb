{
 "cells": [
  {
   "cell_type": "markdown",
   "metadata": {},
   "source": [
    "## Part 1: Book Recommendation"
   ]
  },
  {
   "cell_type": "code",
   "execution_count": 33,
   "metadata": {},
   "outputs": [],
   "source": [
    "import pandas as pd\n",
    "\n",
    "df = pd.read_csv('../data/books_data.csv')"
   ]
  },
  {
   "cell_type": "code",
   "execution_count": 35,
   "metadata": {},
   "outputs": [
    {
     "data": {
      "text/plain": [
       "212404"
      ]
     },
     "execution_count": 35,
     "metadata": {},
     "output_type": "execute_result"
    }
   ],
   "source": [
    "len(df)"
   ]
  },
  {
   "cell_type": "code",
   "execution_count": 87,
   "metadata": {},
   "outputs": [
    {
     "name": "stdout",
     "output_type": "stream",
     "text": [
      "Original:\n",
      "its only art if its well hung julie strain \n",
      "                                         ID     Score\n",
      "209127                   Hung by the tongue  0.365535\n",
      "203498                  Julie Of The Wolves  0.321138\n",
      "65990                            The Return  0.290065\n",
      "40737                The RETURN: THE RETURN  0.288097\n",
      "167024  Gardening Without Stress and Strain  0.282020\n"
     ]
    }
   ],
   "source": [
    "from sklearn.feature_extraction.text import TfidfVectorizer\n",
    "from sklearn.metrics.pairwise import cosine_similarity\n",
    "df[\"Clean Title\"] = df['Title'].str.lower().str.replace(r'[^\\w\\s]', '', regex=True)\n",
    "df['combined_features'] = df['Clean Title'].fillna('') + ' ' + df['authors'].fillna('') + ' ' + df['description'].fillna('')\n",
    "# df['combined_features'] = df['Clean Title'].fillna('') + ' ' + df['description'].fillna('')\n",
    "# df['combined_features'] = df['description'].fillna('') # The problem here is that some books don't have a description\n",
    "df['combined_features'] = df['combined_features'].str.lower().str.replace(r'[^\\w\\s]', '', regex=True)\n",
    "\n",
    "# Remove any non-unique rows\n",
    "df = df.drop_duplicates(subset=['Clean Title'])\n",
    "\n",
    "# Define variables\n",
    "ID_COLUMN = 'Title'\n",
    "COMPARISON_COLUMN = 'combined_features'\n",
    "SPECIFIC_ID = 'Its Only Art If Its Well Hung!'\n",
    "\n",
    "# Vectorize the comments\n",
    "v = TfidfVectorizer(stop_words='english')\n",
    "X = v.fit_transform(df[COMPARISON_COLUMN])\n",
    "\n",
    "# Map IDs to indices\n",
    "Id2idx = pd.Series(df.index, index=df[ID_COLUMN])\n",
    "\n",
    "def get_most_similar(id):\n",
    "    idx = Id2idx[id]\n",
    "    scores = cosine_similarity(X, X[idx]).flatten()\n",
    "    recommended = (-scores).argsort()[1:6]\n",
    "    return df[ID_COLUMN].iloc[recommended], scores[recommended]\n",
    "\n",
    "# Get similar items\n",
    "similar = get_most_similar(SPECIFIC_ID)\n",
    "\n",
    "# Create DataFrame with results\n",
    "df_similar = pd.DataFrame({\n",
    "    'ID': similar[0],\n",
    "    'Score': similar[1],\n",
    "    'Comment': similar[0].apply(lambda x: df[df[ID_COLUMN] == x][COMPARISON_COLUMN].values[0])\n",
    "})\n",
    "\n",
    "print('Original:')\n",
    "print(df[df[ID_COLUMN] == SPECIFIC_ID][COMPARISON_COLUMN].values[0])\n",
    "\n",
    "print(df_similar[[\"ID\", \"Score\"]].head(5))"
   ]
  },
  {
   "cell_type": "markdown",
   "metadata": {},
   "source": [
    "### Evaluate the model\n",
    "\n",
    "For now, let's keep model evaluation simple by sampling a couple recommendations and manually reviewing. Later, we'll take a more complex approach"
   ]
  },
  {
   "cell_type": "code",
   "execution_count": 88,
   "metadata": {},
   "outputs": [
    {
     "name": "stdout",
     "output_type": "stream",
     "text": [
      "Book: The Sierra Club: Mountain Light Postcard Collection: A Portfolio\n",
      "Top rec: The Encyclopedia of Ancient Civilizations\n",
      "Book: Starting and Succeeding in Real Estate\n",
      "Top rec: The Official XMLSPY Handbook\n",
      "Book: The Eye of the Abyss (Franz Schmidt, 1)\n",
      "Top rec: The Art of Translating Prose\n",
      "Book: The Kabbalah Pillars: A Romance of The Ages\n",
      "Top rec: How To Make The Devil Obey You!!!\n",
      "Book: Iridescent Soul\n",
      "Top rec: Wallace Stevens: A Poet's Growth\n"
     ]
    }
   ],
   "source": [
    "# Manual review\n",
    "\n",
    "# Sample five books to assess recommendations\n",
    "sample_books = df.sample(5, random_state=20)\n",
    "\n",
    "top_recs = []\n",
    "for _, row in sample_books.iterrows():\n",
    "    book_recs = get_most_similar(row[\"Title\"])\n",
    "    top_recs.append(book_recs[0])\n",
    "\n",
    "# Print the sampled titles with top recommendations for that title\n",
    "for i, rec in enumerate(top_recs):\n",
    "    print(f\"Book: {sample_books.iloc[i]['Title']}\")\n",
    "    print(f\"Top rec: {rec.iloc[0]}\")"
   ]
  },
  {
   "cell_type": "markdown",
   "metadata": {},
   "source": [
    "Our recommendations seem a bit all over the place right now. In part 3, we'll do some work to improve the quality of our recommendations."
   ]
  },
  {
   "cell_type": "markdown",
   "metadata": {},
   "source": [
    "## Part 2: Composite Book Ratings"
   ]
  },
  {
   "cell_type": "code",
   "execution_count": 37,
   "metadata": {},
   "outputs": [],
   "source": [
    "import pandas as pd\n",
    "\n",
    "ratings = pd.read_csv('../data/Books_rating.csv')\n",
    "ratings[\"Clean Title\"] = ratings[\"Title\"].str.lower().str.replace(r'[^\\w\\s]', '', regex=True)"
   ]
  },
  {
   "cell_type": "code",
   "execution_count": 16,
   "metadata": {},
   "outputs": [
    {
     "name": "stderr",
     "output_type": "stream",
     "text": [
      "[nltk_data] Downloading package vader_lexicon to\n",
      "[nltk_data]     /Users/adene/nltk_data...\n",
      "[nltk_data]   Package vader_lexicon is already up-to-date!\n"
     ]
    },
    {
     "data": {
      "text/plain": [
       "True"
      ]
     },
     "execution_count": 16,
     "metadata": {},
     "output_type": "execute_result"
    }
   ],
   "source": [
    "import nltk\n",
    "\n",
    "nltk.download('vader_lexicon')"
   ]
  },
  {
   "cell_type": "code",
   "execution_count": 38,
   "metadata": {},
   "outputs": [],
   "source": [
    "from sklearn.feature_extraction.text import TfidfVectorizer\n",
    "from nltk.sentiment.vader import SentimentIntensityAnalyzer\n",
    "from scipy.sparse import hstack\n",
    "import numpy as np\n",
    "\n",
    "ratings_sample = ratings.sample(frac = 0.05, random_state = 42)\n",
    "\n",
    "# TODO: Build review/text and review/summary -> review/score model\n",
    "v = TfidfVectorizer(stop_words='english')\n",
    "combined = ratings_sample[\"review/summary\"].fillna(\"\") + \" \" + ratings_sample[\"review/text\"].fillna(\"\")\n",
    "\n",
    "\n",
    "# Add Vader sentiment analysis\n",
    "sid_obj = SentimentIntensityAnalyzer()\n",
    "ratings_sample[\"Polarity\"] = ratings_sample[\"review/summary\"].fillna(\"\").apply(lambda x: sid_obj.polarity_scores(x)[\"compound\"])\n",
    "\n",
    "# Convert polarity series to a 2D numpy array (shape: n_samples x 1)\n",
    "X_polarity = np.array(ratings_sample[\"Polarity\"]).reshape(-1, 1)\n",
    "\n",
    "# Get the TF-IDF features (sparse matrix)\n",
    "X_text = v.fit_transform(combined)\n",
    "\n",
    "# Combine the two using hstack so that each row is a concatenation of TF-IDF features and the polarity value.\n",
    "X = hstack([X_text, X_polarity])\n",
    "y = ratings_sample[\"review/score\"]"
   ]
  },
  {
   "cell_type": "code",
   "execution_count": 39,
   "metadata": {},
   "outputs": [
    {
     "name": "stdout",
     "output_type": "stream",
     "text": [
      "Testing: MAE= 0.766 , MSE= 1.099 , RMSE= 1.049 , R-squared:  0.236\n",
      "Training: MAE= 0.708 , MSE= 0.929 , RMSE= 0.964 , R-squared:  0.358\n"
     ]
    }
   ],
   "source": [
    "from sklearn.model_selection import train_test_split\n",
    "from sklearn import tree\n",
    "\n",
    "X_train, X_test, y_train, y_test = train_test_split(X, y, test_size = 0.2, random_state = 42)\n",
    "\n",
    "model = tree.DecisionTreeRegressor(max_depth=15)\n",
    "model.fit(X_train, y_train)\n",
    "\n",
    "test_predictions = model.predict(X_test)\n",
    "train_predictions = model.predict(X_train)\n",
    "\n",
    "from sklearn.metrics import mean_absolute_error, mean_squared_error, r2_score\n",
    "DECIMALS = 3\n",
    "\n",
    "# Testing metrics\n",
    "test_MAE = mean_absolute_error(y_test, test_predictions)\n",
    "test_MSE = mean_squared_error(y_test, test_predictions)\n",
    "test_RMSE = np.sqrt(test_MSE)\n",
    "test_r2 = r2_score(y_test, test_predictions)\n",
    "print('Testing: MAE=', round(test_MAE, DECIMALS), ', MSE=', round(test_MSE, DECIMALS), ', RMSE=', round(test_RMSE, DECIMALS), ', R-squared: ', round(test_r2, DECIMALS))\n",
    "\n",
    "# Training metrics\n",
    "train_MAE = mean_absolute_error(y_train, train_predictions)\n",
    "train_MSE = mean_squared_error(y_train, train_predictions)\n",
    "train_RMSE = np.sqrt(train_MSE)\n",
    "train_r2 = r2_score(y_train, train_predictions)\n",
    "print('Training: MAE=', round(train_MAE, DECIMALS), ', MSE=', round(train_MSE, DECIMALS), ', RMSE=', round(train_RMSE, DECIMALS), ', R-squared: ', round(train_r2, DECIMALS))"
   ]
  },
  {
   "cell_type": "code",
   "execution_count": null,
   "metadata": {},
   "outputs": [],
   "source": [
    "from tqdm import tqdm\n",
    "# TODO: Multiple reviews -> average review/score model\n",
    "\n",
    "# To predict the average review, let's predict individual reviews and average\n",
    "\n",
    "# Group by book from ratings, sample 5% of total books, \n",
    "unique_titles = ratings[\"Clean Title\"].drop_duplicates()\n",
    "\n",
    "sample_books = unique_titles.sample(frac = 0.05, random_state = 42)\n",
    "\n",
    "grouped = ratings.groupby(\"Clean Title\")\n",
    "\n",
    "abs_error = []\n",
    "\n",
    "for title in tqdm(sample_books):\n",
    "    # Retrieve all rows (i.e., reviews) for this book.\n",
    "    book_reviews = grouped.get_group(title).copy()\n",
    "\n",
    "    book_reviews.loc[:, \"Polarity\"] = book_reviews[\"review/summary\"].fillna(\"\").apply(lambda x: sid_obj.polarity_scores(x)[\"compound\"])\n",
    "\n",
    "    # Convert polarity series to a 2D numpy array (shape: n_samples x 1)\n",
    "    X_polarity = np.array(book_reviews[\"Polarity\"]).reshape(-1, 1)\n",
    "\n",
    "    # Get the TF-IDF features (sparse matrix)\n",
    "    X_text = v.transform(book_reviews[\"review/summary\"].fillna(\"\") + \" \" + book_reviews[\"review/text\"].fillna(\"\"))\n",
    "\n",
    "    # Combine the two using hstack so that each row is a concatenation of TF-IDF features and the polarity value.\n",
    "    X = hstack([X_text, X_polarity])\n",
    "    y = ratings_sample[\"review/score\"]\n",
    "    \n",
    "    predicted_scores = model.predict(X)\n",
    "    avg_pred = np.mean(predicted_scores)\n",
    "    \n",
    "    # Here, we compute the actual average review score:\n",
    "    avg_score = book_reviews[\"review/score\"].mean()\n",
    "    \n",
    "    abs_error.append(abs(avg_pred - avg_score))\n",
    "\n",
    "print(\"Mean absolute error:\", round(np.mean(abs_error), 3))"
   ]
  },
  {
   "cell_type": "markdown",
   "metadata": {},
   "source": [
    "## Part 3: Comprehensive Recommender System"
   ]
  },
  {
   "cell_type": "code",
   "execution_count": null,
   "metadata": {},
   "outputs": [],
   "source": [
    "# Pairwise recommendation tuning"
   ]
  }
 ],
 "metadata": {
  "kernelspec": {
   "display_name": "Python 3",
   "language": "python",
   "name": "python3"
  },
  "language_info": {
   "codemirror_mode": {
    "name": "ipython",
    "version": 3
   },
   "file_extension": ".py",
   "mimetype": "text/x-python",
   "name": "python",
   "nbconvert_exporter": "python",
   "pygments_lexer": "ipython3",
   "version": "3.10.15"
  }
 },
 "nbformat": 4,
 "nbformat_minor": 2
}
